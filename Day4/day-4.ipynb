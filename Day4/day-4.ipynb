{
 "cells": [
  {
   "cell_type": "markdown",
   "id": "97986e8b-4197-474d-87a5-4ca4036574b8",
   "metadata": {},
   "source": [
    "# LLM Engineering\n",
    "\n",
    "## Model Parameters\n",
    "| Model | Parameters |\n",
    "|-------|------------|\n",
    "| GPT-1 | 117M |\n",
    "| GPT-2 | 1.5B |\n",
    "| Gemma | 2B |\n",
    "| Llama 3.1 | 8B |\n",
    "| Llama 3.1 | 70B |\n",
    "| Mixtral | 140B |\n",
    "| GPT-3 | 175B |\n",
    "| Llama 3.1 | 405B |\n",
    "| GPT-4 | 1.76T |\n",
    "| Other frontier models | undisclosed |\n",
    "\n",
    "## Transformers\n",
    "\n",
    "### Evolution of Token Prediction\n",
    "1. Character-level training: Neural networks predicted the next character in sequences\n",
    "2. Word-level training: Neural networks predicted the next word in sequences  \n",
    "3. Token-level breakthrough: Working with chunks of words called 'tokens'\n",
    "\n",
    "### GPT's Tokenizer\n",
    "Token conversion rules of thumb for typical English writing:\n",
    "- 1 token ≈ 4 characters\n",
    "- 1 token ≈ 0.75 words\n",
    "- 1000 tokens ≈ 750 words\n",
    "\n",
    "Note: Token count increases for mathematical notation, scientific terms, and code.\n",
    "\n",
    "## API Costs\n",
    "- APIs typically operate on a pay-per-call basis without subscriptions\n",
    "- Costs are calculated based on:\n",
    " - Number of input tokens\n",
    " - Number of output tokens\n",
    "- Cost and context window comparisons available via Vellum.ai"
   ]
  },
  {
   "cell_type": "code",
   "execution_count": null,
   "id": "d103e26f-bd15-4c56-a41a-0c356129d685",
   "metadata": {},
   "outputs": [],
   "source": []
  }
 ],
 "metadata": {
  "kernelspec": {
   "display_name": "Python 3 (ipykernel)",
   "language": "python",
   "name": "python3"
  },
  "language_info": {
   "codemirror_mode": {
    "name": "ipython",
    "version": 3
   },
   "file_extension": ".py",
   "mimetype": "text/x-python",
   "name": "python",
   "nbconvert_exporter": "python",
   "pygments_lexer": "ipython3",
   "version": "3.11.11"
  }
 },
 "nbformat": 4,
 "nbformat_minor": 5
}
