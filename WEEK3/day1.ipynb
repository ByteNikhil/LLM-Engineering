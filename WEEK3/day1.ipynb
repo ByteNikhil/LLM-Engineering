{
 "cells": [
  {
   "cell_type": "markdown",
   "id": "80ac2ae3-d1ee-4e75-9d43-60639e5a1e34",
   "metadata": {},
   "source": [
    "## HuggingFace Platform\n",
    "#### The ubiquitous for LLM Engineers\n",
    "\n",
    "## Models\n",
    "    - Over 800,000 open source models of all shapes and sizes.\n",
    "\n",
    "## Datasets\n",
    "    - A treasure trove of 200,000 datasets\n",
    "\n",
    "## Spaces\n",
    "    - Apps, many built in Gradio, including Leaderboards"
   ]
  },
  {
   "cell_type": "markdown",
   "id": "31f49260-e071-4c02-822a-c77648a236e4",
   "metadata": {},
   "source": [
    "## HuggingFace Libraries\n",
    "#### And the astonishing leg up we get from them\n",
    "- hub\n",
    "- datasets\n",
    "- transformers\n",
    "- peft (Parameter Effiecient Fine Tuning)\n",
    "- trl (Transformer Reinforcement Learning)\n",
    "- accelerate"
   ]
  },
  {
   "cell_type": "markdown",
   "id": "37ad0a15-a726-41e2-a6a4-387e77a58025",
   "metadata": {},
   "source": [
    "ai-comic-factory"
   ]
  },
  {
   "cell_type": "markdown",
   "id": "1286f4e0-4cdc-44b2-8bb4-3a3240065834",
   "metadata": {},
   "source": [
    "### Introducing Colab\n",
    "Learn about Google Colab and set up a Google account (if you don't already have one) here\n",
    "\n",
    "You should be able to use the free tier or minimal spend to complete all the projects in the class. I personally signed up for Colab Pro+ and I'm loving it - but it's not required.\n",
    "\n",
    "To see some of what Colab can do, please follow the link below!"
   ]
  },
  {
   "cell_type": "markdown",
   "id": "1850f5c6-c3e0-4fed-9dfa-be923c9ad302",
   "metadata": {},
   "source": [
    "https://colab.research.google.com/drive/1DjcrYDZldAXKJ08x1uYIVCtItoLPk1Wr?usp=sharing"
   ]
  },
  {
   "cell_type": "code",
   "execution_count": null,
   "id": "156bc480-6f64-4d79-a941-ddb3c1c6028e",
   "metadata": {},
   "outputs": [],
   "source": []
  }
 ],
 "metadata": {
  "kernelspec": {
   "display_name": "Python 3 (ipykernel)",
   "language": "python",
   "name": "python3"
  },
  "language_info": {
   "codemirror_mode": {
    "name": "ipython",
    "version": 3
   },
   "file_extension": ".py",
   "mimetype": "text/x-python",
   "name": "python",
   "nbconvert_exporter": "python",
   "pygments_lexer": "ipython3",
   "version": "3.11.11"
  }
 },
 "nbformat": 4,
 "nbformat_minor": 5
}
