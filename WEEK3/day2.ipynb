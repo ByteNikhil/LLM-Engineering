{
 "cells": [
  {
   "cell_type": "markdown",
   "id": "4e46ebfb-2029-4d0b-9662-6b7afd6d17f2",
   "metadata": {},
   "source": [
    "#### The two API levels of Hugging Face\n",
    "- Pipelines\n",
    "  - Higher level APIs to carry out standard tasks incredibly quickly\n",
    "- Tokenizers and models\n",
    "  - Lower level APIs to privide the most power and control"
   ]
  },
  {
   "cell_type": "markdown",
   "id": "e4e7c9f3-0e99-42fb-8900-cd5c0056df8a",
   "metadata": {},
   "source": [
    "#### Pipelines are incredibly versatile and simple\n",
    "    Unleash the power of open-source models in your solutions in 2 lines of code\n",
    "\n",
    "- Sentiment analysis\n",
    "- Classifier\n",
    "- Named entity recognition\n",
    "- Question answering\n",
    "- Summarizing\n",
    "- Translation"
   ]
  },
  {
   "cell_type": "markdown",
   "id": "6ab87f3f-b3dc-4c62-955c-20b7023c0813",
   "metadata": {},
   "source": [
    "#### Use pipelines to generate content\n",
    "- Text\n",
    "- Image\n",
    "- Audio"
   ]
  },
  {
   "cell_type": "code",
   "execution_count": null,
   "id": "63453103-676d-4f26-b6ab-c471bb1499c1",
   "metadata": {},
   "outputs": [],
   "source": []
  }
 ],
 "metadata": {
  "kernelspec": {
   "display_name": "Python 3 (ipykernel)",
   "language": "python",
   "name": "python3"
  },
  "language_info": {
   "codemirror_mode": {
    "name": "ipython",
    "version": 3
   },
   "file_extension": ".py",
   "mimetype": "text/x-python",
   "name": "python",
   "nbconvert_exporter": "python",
   "pygments_lexer": "ipython3",
   "version": "3.11.11"
  }
 },
 "nbformat": 4,
 "nbformat_minor": 5
}
