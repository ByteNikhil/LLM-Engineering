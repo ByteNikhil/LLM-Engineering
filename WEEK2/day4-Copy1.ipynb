{
 "cells": [
  {
   "cell_type": "markdown",
   "id": "4a305f09-2173-43bd-83dd-827aa77c65c3",
   "metadata": {},
   "source": [
    "# Defining Tools\n",
    "Allow frontier models to connect with external functions\n",
    "- richer responses by extending knowledge\n",
    "- ability to carry out actions within the application\n",
    "- enhanced capabilities, like calculations\n",
    "\n",
    "How it works\n",
    "- in a request to the LLM, specify available tools\n",
    "- the reply is either text, or a request to run a tool\n",
    "- we run the tool and call the llm with the results"
   ]
  },
  {
   "cell_type": "markdown",
   "id": "7a5668b1-1602-4cc9-8b92-1faf7987a610",
   "metadata": {},
   "source": [
    "## Common use cases for tools\n",
    "Function calls can enable assistant to:\n",
    "- fetch data or add knowledge or context\n",
    "- take action, like booking a meeting\n",
    "- perform calculations\n",
    "- modify the UI"
   ]
  },
  {
   "cell_type": "markdown",
   "id": "0c93c182-f888-4469-a165-b8df223af37c",
   "metadata": {},
   "source": [
    "# Project - Airline AI Assistant\n",
    "we'll now bring together what we've learned to make an AI Customer support assistant for an Airline."
   ]
  },
  {
   "cell_type": "code",
   "execution_count": 1,
   "id": "4ee7965f-ac6f-49f0-84a4-24a1b3174af3",
   "metadata": {},
   "outputs": [
    {
     "name": "stderr",
     "output_type": "stream",
     "text": [
      "C:\\Users\\hp\\.conda\\envs\\llms1\\Lib\\site-packages\\tqdm\\auto.py:21: TqdmWarning: IProgress not found. Please update jupyter and ipywidgets. See https://ipywidgets.readthedocs.io/en/stable/user_install.html\n",
      "  from .autonotebook import tqdm as notebook_tqdm\n"
     ]
    }
   ],
   "source": [
    "# imports\n",
    "\n",
    "import os\n",
    "import json\n",
    "from dotenv import load_dotenv\n",
    "from openai import OpenAI\n",
    "import gradio as gr"
   ]
  },
  {
   "cell_type": "code",
   "execution_count": 10,
   "id": "2e5513ed-f9d0-48f2-8442-8774dfbb6621",
   "metadata": {},
   "outputs": [],
   "source": [
    "# initialization\n",
    "\n",
    "load_dotenv()\n",
    "os.environ['OPENAI_API_KEY']=os.getenv('OPENAI_API_KEY')\n",
    "MODEL=\"gpt-4o-mini\"\n",
    "openai=OpenAI()\n",
    "\n",
    "# As an alternative, if you'd like to use Ollama instead of OpenAI\n",
    "# Check that Ollama is running for you locally (see week1/day2 exercise) then uncomment these next 2 lines\n",
    "# MODEL = \"llama3.2\"\n",
    "# openai = OpenAI(base_url='http://localhost:11434/v1', api_key='ollama')"
   ]
  },
  {
   "cell_type": "code",
   "execution_count": 3,
   "id": "8b0e5dbe-1555-4629-accb-c7f42fe799a1",
   "metadata": {},
   "outputs": [],
   "source": [
    "system_message=\"You are a helpful assistant for an Airline called FlightAI. \"\n",
    "system_message+=\"Give short, courteous answers, no more than 1 sentence. \"\n",
    "system_message+=\"Always be accurate. If you don't know the answer, say so.\""
   ]
  },
  {
   "cell_type": "code",
   "execution_count": 6,
   "id": "c23e5c6d-2636-4274-be51-e01cf598afc8",
   "metadata": {},
   "outputs": [],
   "source": [
    "def chat(message, history):\n",
    "    messages=[{\"role\":\"system\", \"content\":system_message}]\n",
    "    for human, assistant in history:\n",
    "        messages.append({\"role\":\"user\", \"content\":human})\n",
    "        messages.append({\"role\":\"assistant\", \"content\":assistant})\n",
    "    messages.append({\"role\":\"user\", \"content\": message})\n",
    "    response=openai.chat.completions.create(model=MODEL, messages=messages)\n",
    "    return response.choices[0].message.content"
   ]
  },
  {
   "cell_type": "code",
   "execution_count": 7,
   "id": "fa875632-5c0a-4d48-8814-77385b7eb956",
   "metadata": {},
   "outputs": [
    {
     "name": "stderr",
     "output_type": "stream",
     "text": [
      "C:\\Users\\hp\\.conda\\envs\\llms1\\Lib\\site-packages\\gradio\\components\\chatbot.py:288: UserWarning: The 'tuples' format for chatbot messages is deprecated and will be removed in a future version of Gradio. Please set type='messages' instead, which uses openai-style 'role' and 'content' keys.\n",
      "  warnings.warn(\n"
     ]
    },
    {
     "name": "stdout",
     "output_type": "stream",
     "text": [
      "* Running on local URL:  http://127.0.0.1:7889\n",
      "\n",
      "To create a public link, set `share=True` in `launch()`.\n"
     ]
    },
    {
     "data": {
      "text/html": [
       "<div><iframe src=\"http://127.0.0.1:7889/\" width=\"100%\" height=\"500\" allow=\"autoplay; camera; microphone; clipboard-read; clipboard-write;\" frameborder=\"0\" allowfullscreen></iframe></div>"
      ],
      "text/plain": [
       "<IPython.core.display.HTML object>"
      ]
     },
     "metadata": {},
     "output_type": "display_data"
    },
    {
     "data": {
      "text/plain": []
     },
     "execution_count": 7,
     "metadata": {},
     "output_type": "execute_result"
    }
   ],
   "source": [
    "gr.ChatInterface(fn=chat).launch()"
   ]
  },
  {
   "cell_type": "markdown",
   "id": "b7ebf84a-e200-4287-90d7-11eb8e342c1b",
   "metadata": {},
   "source": [
    "## Tools\n",
    "Tools are an incredibly powerful features provided by the frontier LLMs.\n",
    "with tools, you can write a function, and have the LLM call that function as part of its response.\n",
    "sounds almost spoooky..we're giving it the power to run code on our machine?"
   ]
  },
  {
   "cell_type": "code",
   "execution_count": 8,
   "id": "6a05e464-7246-4894-9838-f6a4b68da8c3",
   "metadata": {},
   "outputs": [],
   "source": [
    "# let's start by making a useful function.\n",
    "\n",
    "ticket_prices={\"london\":\"$799\", \"paris\":\"$899\", \"tokyo\":\"$1400\", \"berlin\":\"$499\"}\n",
    "\n",
    "def get_ticket_price(destination_city):\n",
    "    print(f\"Tool get_ticket_price called for {destination_city}\")\n",
    "    city=destination_city.lower()\n",
    "    return ticket_prices.get(city, \"Unknown\")"
   ]
  },
  {
   "cell_type": "code",
   "execution_count": 9,
   "id": "29e09154-2676-4143-b53e-b88b577d7213",
   "metadata": {},
   "outputs": [
    {
     "name": "stdout",
     "output_type": "stream",
     "text": [
      "Tool get_ticket_price called for PaRis\n"
     ]
    },
    {
     "data": {
      "text/plain": [
       "'$899'"
      ]
     },
     "execution_count": 9,
     "metadata": {},
     "output_type": "execute_result"
    }
   ],
   "source": [
    "get_ticket_price(\"PaRis\")"
   ]
  },
  {
   "cell_type": "code",
   "execution_count": 11,
   "id": "c80c6898-a8f4-48d1-9444-39d8be0bfd23",
   "metadata": {},
   "outputs": [],
   "source": [
    "# there's a particular dictionary structure that's required to describe our function:\n",
    "\n",
    "price_function={\n",
    "    \"name\": \"get_ticket_price\",\n",
    "    \"description\": \"Get the price of a return ticket to the destination city. Call this whenever you need to know the \",\n",
    "    \"parameters\": {\n",
    "        \"type\": \"object\",\n",
    "        \"properties\": {\n",
    "            \"destination_city\": {\n",
    "                \"type\": \"string\",\n",
    "                \"description\": \"The city that the customer wants to travel to\",\n",
    "            },\n",
    "        },\n",
    "        \"required\": [\"destination_city\"],\n",
    "        \"additionalProperties\": False\n",
    "    }\n",
    "}"
   ]
  },
  {
   "cell_type": "code",
   "execution_count": 12,
   "id": "6853ea73-a245-449e-bf64-c6b47faed3d2",
   "metadata": {},
   "outputs": [],
   "source": [
    "# And this is included in a list of tools:\n",
    "\n",
    "tools = [{\"type\": \"function\", \"function\": price_function}]"
   ]
  },
  {
   "cell_type": "markdown",
   "id": "9fb309f9-bd2e-4b5d-88df-67fed00345b2",
   "metadata": {},
   "source": [
    "### Getting OpenAI to use our Tool\n",
    "There's some fiddly stuff to allow OpenAI \"to call our tool\"\n",
    "\n",
    "What we actually do is give the LLM the opportunity to inform us that it wants us to run the tool.\n",
    "\n",
    "Here's how the new chat function looks:"
   ]
  },
  {
   "cell_type": "code",
   "execution_count": 14,
   "id": "2a314460-b010-47f4-bf08-3bd16f1917b5",
   "metadata": {},
   "outputs": [],
   "source": [
    "def chat(message, history):\n",
    "    messages = [{\"role\": \"system\", \"content\": system_message}] + history + [{\"role\": \"user\", \"content\": message}]\n",
    "    response = openai.chat.completions.create(model=MODEL, messages=messages, tools=tools)\n",
    "\n",
    "    if response.choices[0].finish_reason==\"tool_calls\":\n",
    "        message = response.choices[0].message\n",
    "        response, city = handle_tool_call(message)\n",
    "        messages.append(message)\n",
    "        messages.append(response)\n",
    "        response = openai.chat.completions.create(model=MODEL, messages=messages)\n",
    "    \n",
    "    return response.choices[0].message.content"
   ]
  },
  {
   "cell_type": "code",
   "execution_count": 15,
   "id": "1f3a4ca0-437a-4a43-93cd-1bf5519d991b",
   "metadata": {},
   "outputs": [],
   "source": [
    "# We have to write that function handle_tool_call:\n",
    "\n",
    "def handle_tool_call(message):\n",
    "    tool_call = message.tool_calls[0]\n",
    "    arguments = json.loads(tool_call.function.arguments)\n",
    "    city = arguments.get('destination_city')\n",
    "    price = get_ticket_price(city)\n",
    "    response = {\n",
    "        \"role\": \"tool\",\n",
    "        \"content\": json.dumps({\"destination_city\": city,\"price\": price}),\n",
    "        \"tool_call_id\": tool_call.id\n",
    "    }\n",
    "    return response, city"
   ]
  },
  {
   "cell_type": "code",
   "execution_count": 16,
   "id": "b97e9d9a-c952-4b15-b432-7ed3de451ce0",
   "metadata": {},
   "outputs": [
    {
     "name": "stdout",
     "output_type": "stream",
     "text": [
      "* Running on local URL:  http://127.0.0.1:7890\n",
      "\n",
      "To create a public link, set `share=True` in `launch()`.\n"
     ]
    },
    {
     "data": {
      "text/html": [
       "<div><iframe src=\"http://127.0.0.1:7890/\" width=\"100%\" height=\"500\" allow=\"autoplay; camera; microphone; clipboard-read; clipboard-write;\" frameborder=\"0\" allowfullscreen></iframe></div>"
      ],
      "text/plain": [
       "<IPython.core.display.HTML object>"
      ]
     },
     "metadata": {},
     "output_type": "display_data"
    },
    {
     "data": {
      "text/plain": []
     },
     "execution_count": 16,
     "metadata": {},
     "output_type": "execute_result"
    },
    {
     "name": "stdout",
     "output_type": "stream",
     "text": [
      "Tool get_ticket_price called for Paris\n",
      "Tool get_ticket_price called for Berlin\n",
      "Tool get_ticket_price called for Berlin\n",
      "Tool get_ticket_price called for Berlin\n",
      "Tool get_ticket_price called for Berlin\n"
     ]
    }
   ],
   "source": [
    "gr.ChatInterface(fn=chat, type=\"messages\").launch()"
   ]
  },
  {
   "cell_type": "code",
   "execution_count": 2,
   "id": "80ad21d9-48e0-4fbf-b3fd-5219d572d5d0",
   "metadata": {},
   "outputs": [],
   "source": [
    "import os\n",
    "import json\n",
    "from dotenv import load_dotenv\n",
    "from openai import OpenAI\n",
    "\n",
    "# As an alternative, if you'd like to use Ollama instead of OpenAI\n",
    "# Check that Ollama is running for you locally (see week1/day2 exercise) then uncomment these next 2 lines\n",
    "MODEL = \"llama3.2:1b\"\n",
    "openai = OpenAI(base_url='http://localhost:11434/v1', api_key='ollama')"
   ]
  },
  {
   "cell_type": "code",
   "execution_count": 11,
   "id": "a167f9e5-22d9-4f65-9fa0-8975556f8d09",
   "metadata": {},
   "outputs": [],
   "source": [
    "response= openai.chat.completions.create(\n",
    "    model=MODEL,\n",
    "    messages=[{\"role\":\"system\", \"content\":\"You are a helpful Assistant.\"},\n",
    "             {\"role\":\"user\", \"content\":\"How many r is in 'strawberry'.\"}]\n",
    ")"
   ]
  },
  {
   "cell_type": "code",
   "execution_count": 12,
   "id": "8e6e1cf1-4aae-40d9-9056-4207f9b4864a",
   "metadata": {},
   "outputs": [
    {
     "data": {
      "text/plain": [
       "'There are two Rs in the word \"strawberry\".'"
      ]
     },
     "execution_count": 12,
     "metadata": {},
     "output_type": "execute_result"
    }
   ],
   "source": [
    "response.choices[0].message.content"
   ]
  },
  {
   "cell_type": "code",
   "execution_count": null,
   "id": "add2df9e-6d36-40aa-92ba-fe8ec647c653",
   "metadata": {},
   "outputs": [],
   "source": []
  }
 ],
 "metadata": {
  "kernelspec": {
   "display_name": "Python 3 (ipykernel)",
   "language": "python",
   "name": "python3"
  },
  "language_info": {
   "codemirror_mode": {
    "name": "ipython",
    "version": 3
   },
   "file_extension": ".py",
   "mimetype": "text/x-python",
   "name": "python",
   "nbconvert_exporter": "python",
   "pygments_lexer": "ipython3",
   "version": "3.11.11"
  }
 },
 "nbformat": 4,
 "nbformat_minor": 5
}
