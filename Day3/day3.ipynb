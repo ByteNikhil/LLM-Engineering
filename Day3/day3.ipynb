{
 "cells": [
  {
   "cell_type": "markdown",
   "id": "02c71ac0-6d21-42cf-b402-3d1572b4fd84",
   "metadata": {},
   "source": [
    "### AI Model Comparison & Evaluting through creative prompts\n",
    "\n",
    "#### GPT-4, Claude, Gemini, LLAMA"
   ]
  },
  {
   "cell_type": "code",
   "execution_count": null,
   "id": "84b8c041-dfb3-44e5-872a-6b3d6596576c",
   "metadata": {},
   "outputs": [],
   "source": []
  }
 ],
 "metadata": {
  "kernelspec": {
   "display_name": "Python 3 (ipykernel)",
   "language": "python",
   "name": "python3"
  },
  "language_info": {
   "codemirror_mode": {
    "name": "ipython",
    "version": 3
   },
   "file_extension": ".py",
   "mimetype": "text/x-python",
   "name": "python",
   "nbconvert_exporter": "python",
   "pygments_lexer": "ipython3",
   "version": "3.11.11"
  }
 },
 "nbformat": 4,
 "nbformat_minor": 5
}
