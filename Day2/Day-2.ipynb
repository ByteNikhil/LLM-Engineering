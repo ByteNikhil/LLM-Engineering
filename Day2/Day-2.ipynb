{
 "cells": [
  {
   "cell_type": "markdown",
   "id": "48fb9f1c-4632-4f3b-8dd1-04fd34ebef46",
   "metadata": {},
   "source": [
    "# Closed Source Frontier\n",
    "### GPT From OpenAI\n",
    "### Claude From Antropic\n",
    "### Gemini From Google\n",
    "### Command R From Cohere\n",
    "### Perplexity"
   ]
  },
  {
   "cell_type": "markdown",
   "id": "a955e6c8-2857-44b3-a9d1-c08b765a2793",
   "metadata": {},
   "source": [
    "# Open Source Frontier\n",
    "### Llama From Meta\n",
    "### Mixtral From Mistral\n",
    "### Qwen From Alibaba Cloud\n",
    "### Gemma From Google\n",
    "### Phi From Microsoft"
   ]
  },
  {
   "cell_type": "raw",
   "id": "7f1c5a14-38a8-443c-8b40-e66c27bb0c5d",
   "metadata": {},
   "source": [
    "Three ways to use models\n",
    "\n",
    "chat interfaces - like chatGPT\n",
    "Cloud API's - LLM API\n",
    "Direct Inference - with huggingface transformers library & Ollama to run locally"
   ]
  },
  {
   "cell_type": "code",
   "execution_count": 2,
   "id": "8fe2eb93-6dea-4ecb-9f23-6d35d8058508",
   "metadata": {},
   "outputs": [],
   "source": [
    "# imports\n",
    "\n",
    "import requests\n",
    "from bs4 import BeautifulSoup\n",
    "from IPython.display import Markdown, display"
   ]
  },
  {
   "cell_type": "code",
   "execution_count": 19,
   "id": "0282690f-4f19-4065-be78-28748604036c",
   "metadata": {},
   "outputs": [],
   "source": [
    "# Constants\n",
    "\n",
    "OLLAMA_API = \"http://localhost:11434/api/chat\"\n",
    "HEADERS = {\n",
    "    'Content-Type': 'application/json',\n",
    "    'Accept': 'application/json'\n",
    "}\n",
    "MODEL = \"llama3.2:1b\""
   ]
  },
  {
   "cell_type": "code",
   "execution_count": 20,
   "id": "a6115e87-86b7-4d39-ab88-7520a728d447",
   "metadata": {},
   "outputs": [],
   "source": [
    "# Create a messages list using the same format that we used for OpenAI\n",
    "\n",
    "messages = [\n",
    "    {\"role\": \"user\", \"content\": \"Describe some of the business applications of Generative AI\"}\n",
    "]"
   ]
  },
  {
   "cell_type": "code",
   "execution_count": 21,
   "id": "a241901b-dead-4077-b486-6176174169a9",
   "metadata": {},
   "outputs": [],
   "source": [
    "payload = {\n",
    "        \"model\": MODEL,\n",
    "        \"messages\": messages,\n",
    "        \"stream\": False\n",
    "    }"
   ]
  },
  {
   "cell_type": "code",
   "execution_count": 9,
   "id": "25b641c2-dc76-40f7-b626-b4320d485e5e",
   "metadata": {},
   "outputs": [
    {
     "name": "stderr",
     "output_type": "stream",
     "text": [
      "\u001b[?25lpulling manifest â ‹ \u001b[?25h\u001b[?25l\u001b[2K\u001b[1Gpulling manifest â ™ \u001b[?25h\u001b[?25l\u001b[2K\u001b[1Gpulling manifest â ¹ \u001b[?25h\u001b[?25l\u001b[2K\u001b[1Gpulling manifest â ¸ \u001b[?25h\u001b[?25l\u001b[2K\u001b[1Gpulling manifest â ¼ \u001b[?25h\u001b[?25l\u001b[2K\u001b[1Gpulling manifest â ´ \u001b[?25h\u001b[?25l\u001b[2K\u001b[1Gpulling manifest â ¦ \u001b[?25h\u001b[?25l\u001b[2K\u001b[1Gpulling manifest â § \u001b[?25h\u001b[?25l\u001b[2K\u001b[1Gpulling manifest â ‡ \u001b[?25h\u001b[?25l\u001b[2K\u001b[1Gpulling manifest â � \u001b[?25h\u001b[?25l\u001b[2K\u001b[1Gpulling manifest â ‹ \u001b[?25h\u001b[?25l\u001b[2K\u001b[1Gpulling manifest â ™ \u001b[?25h\u001b[?25l\u001b[2K\u001b[1Gpulling manifest â ¹ \u001b[?25h\u001b[?25l\u001b[2K\u001b[1Gpulling manifest â ¸ \u001b[?25h\u001b[?25l\u001b[2K\u001b[1Gpulling manifest â ¼ \u001b[?25h\u001b[?25l\u001b[2K\u001b[1Gpulling manifest â ´ \u001b[?25h\u001b[?25l\u001b[2K\u001b[1Gpulling manifest \n",
      "pulling 74701a8c35f6... 100% â–•â–ˆâ–ˆâ–ˆâ–ˆâ–ˆâ–ˆâ–ˆâ–ˆâ–ˆâ–ˆâ–ˆâ–ˆâ–ˆâ–ˆâ–ˆâ–ˆâ–� 1.3 GB                         \n",
      "pulling 966de95ca8a6... 100% â–•â–ˆâ–ˆâ–ˆâ–ˆâ–ˆâ–ˆâ–ˆâ–ˆâ–ˆâ–ˆâ–ˆâ–ˆâ–ˆâ–ˆâ–ˆâ–ˆâ–� 1.4 KB                         \n",
      "pulling fcc5a6bec9da... 100% â–•â–ˆâ–ˆâ–ˆâ–ˆâ–ˆâ–ˆâ–ˆâ–ˆâ–ˆâ–ˆâ–ˆâ–ˆâ–ˆâ–ˆâ–ˆâ–ˆâ–� 7.7 KB                         \n",
      "pulling a70ff7e570d9... 100% â–•â–ˆâ–ˆâ–ˆâ–ˆâ–ˆâ–ˆâ–ˆâ–ˆâ–ˆâ–ˆâ–ˆâ–ˆâ–ˆâ–ˆâ–ˆâ–ˆâ–� 6.0 KB                         \n",
      "pulling 4f659a1e86d7... 100% â–•â–ˆâ–ˆâ–ˆâ–ˆâ–ˆâ–ˆâ–ˆâ–ˆâ–ˆâ–ˆâ–ˆâ–ˆâ–ˆâ–ˆâ–ˆâ–ˆâ–�  485 B                         \n",
      "verifying sha256 digest \n",
      "writing manifest \n",
      "success \u001b[?25h\n"
     ]
    }
   ],
   "source": [
    "!ollama pull llama3.2:1b"
   ]
  },
  {
   "cell_type": "code",
   "execution_count": 22,
   "id": "d201f7f3-e657-448e-8bb5-705a496bc8a7",
   "metadata": {},
   "outputs": [
    {
     "data": {
      "text/plain": [
       "'Generative AI has numerous business applications across various industries. Here are some examples:\\n\\n1. **Content Creation**: Generative AI can generate high-quality content, such as articles, social media posts, and product descriptions, quickly and efficiently. This reduces the workload for writers, editors, and marketing teams.\\n2. **Visual Content**: Generative AI can create stunning visual content, like images, videos, and graphics, with minimal human intervention. This is particularly useful in industries like advertising, marketing, and entertainment.\\n3. **Product Design**: Generative AI can generate product designs, prototypes, and mockups, allowing designers to focus on high-level creative decisions rather than low-level technical details.\\n4. **Customer Service Chatbots**: Generative AI-powered chatbots can respond to customer inquiries more quickly and accurately than human agents, reducing response times and improving customer satisfaction.\\n5. **Marketing Automation**: Generative AI can automate marketing tasks, such as lead generation, email nurturing, and personalization, freeing up marketers to focus on higher-level creative decisions.\\n6. **Supply Chain Optimization**: Generative AI can help optimize supply chain operations by generating predictive models for demand forecasting, inventory management, and logistics planning.\\n7. **Financial Modeling**: Generative AI can automate financial modeling tasks, such as creating complex financial projections, scenarios, and forecasts, making it easier for finance teams to analyze and act on market data.\\n8. **Product Development**: Generative AI can help product development teams create prototypes, test hypotheses, and iterate on product design through interactive simulations and predictions.\\n9. **Language Translation**: Generative AI-powered translation tools can quickly and accurately translate text, speech, and even entire documents, reducing the need for human translators and improving global communication.\\n10. **Quality Control**: Generative AI can analyze data from various sources, such as images, videos, and sensor readings, to identify defects or anomalies, helping businesses optimize their production processes and reduce waste.\\n11. **Predictive Maintenance**: Generative AI can predict equipment failures, schedules maintenance, and perform predictive analytics on machine performance, improving operational efficiency and reducing downtime.\\n12. **Data Analysis**: Generative AI can analyze large datasets, identifying patterns, correlations, and anomalies that might be missed by humans, providing valuable insights for businesses to make data-driven decisions.\\n\\nThese business applications of generative AI have the potential to transform various industries, from media and entertainment to healthcare and finance, by automating tasks, improving efficiency, and enhancing decision-making.'"
      ]
     },
     "execution_count": 22,
     "metadata": {},
     "output_type": "execute_result"
    }
   ],
   "source": [
    "# If this doesn't work for any reason, try the 2 versions in the following cells\n",
    "# And double check the instructions in the 'Recap on installation of Ollama' at the top of this lab\n",
    "# And if none of that works - contact me!\n",
    "\n",
    "response = requests.post(OLLAMA_API, json=payload, headers=HEADERS)\n",
    "print(response.json()['message']['content'])"
   ]
  },
  {
   "cell_type": "code",
   "execution_count": 23,
   "id": "35d82edb-d01d-4478-90e4-ac8bc5aa8d6a",
   "metadata": {},
   "outputs": [
    {
     "name": "stdout",
     "output_type": "stream",
     "text": [
      "Generative AI has numerous business applications across various industries. Here are some examples:\n",
      "\n",
      "1. **Content Creation**: Generative AI can generate high-quality content, such as articles, social media posts, and product descriptions, quickly and efficiently. This reduces the workload for writers, editors, and marketing teams.\n",
      "2. **Visual Content**: Generative AI can create stunning visual content, like images, videos, and graphics, with minimal human intervention. This is particularly useful in industries like advertising, marketing, and entertainment.\n",
      "3. **Product Design**: Generative AI can generate product designs, prototypes, and mockups, allowing designers to focus on high-level creative decisions rather than low-level technical details.\n",
      "4. **Customer Service Chatbots**: Generative AI-powered chatbots can respond to customer inquiries more quickly and accurately than human agents, reducing response times and improving customer satisfaction.\n",
      "5. **Marketing Automation**: Generative AI can automate marketing tasks, such as lead generation, email nurturing, and personalization, freeing up marketers to focus on higher-level creative decisions.\n",
      "6. **Supply Chain Optimization**: Generative AI can help optimize supply chain operations by generating predictive models for demand forecasting, inventory management, and logistics planning.\n",
      "7. **Financial Modeling**: Generative AI can automate financial modeling tasks, such as creating complex financial projections, scenarios, and forecasts, making it easier for finance teams to analyze and act on market data.\n",
      "8. **Product Development**: Generative AI can help product development teams create prototypes, test hypotheses, and iterate on product design through interactive simulations and predictions.\n",
      "9. **Language Translation**: Generative AI-powered translation tools can quickly and accurately translate text, speech, and even entire documents, reducing the need for human translators and improving global communication.\n",
      "10. **Quality Control**: Generative AI can analyze data from various sources, such as images, videos, and sensor readings, to identify defects or anomalies, helping businesses optimize their production processes and reduce waste.\n",
      "11. **Predictive Maintenance**: Generative AI can predict equipment failures, schedules maintenance, and perform predictive analytics on machine performance, improving operational efficiency and reducing downtime.\n",
      "12. **Data Analysis**: Generative AI can analyze large datasets, identifying patterns, correlations, and anomalies that might be missed by humans, providing valuable insights for businesses to make data-driven decisions.\n",
      "\n",
      "These business applications of generative AI have the potential to transform various industries, from media and entertainment to healthcare and finance, by automating tasks, improving efficiency, and enhancing decision-making.\n"
     ]
    }
   ],
   "source": [
    "print(response.json()['message']['content'])"
   ]
  },
  {
   "cell_type": "code",
   "execution_count": 26,
   "id": "ef2f8429-3620-4421-9dd9-a1a1bb5601db",
   "metadata": {},
   "outputs": [
    {
     "name": "stdout",
     "output_type": "stream",
     "text": [
      "Generative AI has various business applications across industries, transforming the way companies create, manage, and interact with content. Here are some examples:\n",
      "\n",
      "1. **Content Creation**: Generative AI can help generate high-quality, engaging content like articles, social media posts, product descriptions, and even entire websites. This frees up human writers to focus on more creative and strategic tasks.\n",
      "2. **Marketing Automation**: AI-powered generative tools can automate repetitive marketing tasks such as email campaigns, lead nurturing, and personalization. This saves time for marketers to focus on higher-level decision-making and strategy development.\n",
      "3. **Product Development**: Generative AI can assist in product ideation, design optimization, and testing. It can generate innovative ideas, simulate user behavior, and predict performance, helping companies refine their products and services.\n",
      "4. **Customer Experience (CX) Management**: AI-driven generative tools can help create personalized customer experiences through chatbots, virtual assistants, and recommendation engines. This enhances the overall CX, leading to increased customer satisfaction and loyalty.\n",
      "5. **Predictive Maintenance and Repair**: Generative AI can analyze data from sensors, cameras, and other sources to predict equipment failures, detect anomalies, and recommend maintenance schedules. This improves operational efficiency and reduces downtime for businesses with complex assets.\n",
      "6. **Design and Engineering**: AI-generated designs can optimize architecture, product design, and engineering processes. This leads to faster development cycles, reduced errors, and increased innovation in industries like aerospace, automotive, and construction.\n",
      "7. **Virtual Events and Experiences**: Generative AI can create immersive virtual events, such as conferences, trade shows, and webinars, which enhance attendee engagement and provide unique experiences for customers and stakeholders.\n",
      "8. **Data Analysis and Insights**: AI-powered generative tools can help analyze large datasets, identify trends, and generate insights that inform business decisions. This accelerates data-driven decision-making across various industries.\n",
      "9. **Cybersecurity Threat Detection**: Generative AI can analyze network traffic, system logs, and other sources to detect potential threats before they become incidents. This improves security posture and reduces the risk of cyber attacks.\n",
      "10. **Supply Chain Optimization**: AI-driven generative tools can optimize supply chain operations, such as inventory management, logistics, and procurement. This leads to reduced costs, improved efficiency, and enhanced customer satisfaction.\n",
      "\n",
      "These business applications illustrate how Generative AI is transforming industries and enabling businesses to innovate, automate, and streamline their operations.\n"
     ]
    }
   ],
   "source": [
    "import ollama\n",
    "\n",
    "response = ollama.chat(model=MODEL, messages=messages)\n",
    "print(response['message']['content'])"
   ]
  },
  {
   "cell_type": "code",
   "execution_count": 27,
   "id": "00c255a4-7d84-4c9a-b9ca-f0823a3ea73d",
   "metadata": {},
   "outputs": [
    {
     "name": "stdout",
     "output_type": "stream",
     "text": [
      "Generative AI has a wide range of business applications across various industries. Here are some examples:\n",
      "\n",
      "1. **Marketing and Advertising**: Generative AI can be used to create personalized avatars, characters, or even entire personas for social media advertising campaigns. This helps brands connect with their target audience on a more human-like level.\n",
      "2. **Content Creation**: Generative models can generate original content such as articles, videos, podcasts, or even entire books. This streamlines content creation and enables businesses to publish high-quality content faster.\n",
      "3. **Data Analysis and Visualization**: Generative AI algorithms can analyze large datasets and create interactive visualizations, making it easier for business analysts to understand complex data insights.\n",
      "4. **Customer Service Chatbots**: Generative AI-powered chatbots can engage with customers through natural language conversations, helping to reduce the workload for human customer support agents and improving overall customer experience.\n",
      "5. **Product Design and Iteration**: Generative models can design new products or components, speeding up the product development process and reducing costs. These designs are often iterative, ensuring that they meet customer needs before production begins.\n",
      "6. **Supply Chain Management**: Generative AI can analyze data from various sources, predict demand, and optimize supply chain operations, leading to improved efficiency, reduced costs, and reduced inventory risks.\n",
      "7. **Predictive Maintenance**: Generative models can analyze sensor data from machines or equipment, predicting when maintenance is required, thereby reducing downtime and increasing overall productivity.\n",
      "8. **Financial Modeling and Analysis**: Generative AI algorithms can analyze financial data and create scenarios or models to predict future trends or outcomes, helping businesses make more informed investment decisions.\n",
      "9. **Quality Control and Inspection**: Generative models can inspect images or videos of products, detecting defects or anomalies that may not be apparent through manual human inspection.\n",
      "10. **Healthcare Research and Analysis**: Generative AI algorithms can analyze medical data and create high-level insights to help researchers identify patterns, trends, and correlations, accelerating the discovery process.\n",
      "\n",
      "Some notable companies exploring these applications include:\n",
      "\n",
      "* Adobe: Using generative models for product design, content creation, and image editing\n",
      "* Amazon: Leveraging generative AI for customer service chatbots, recommendations, and advertising\n",
      "* IBM: Implementing generative AI for sales enablement, marketing automation, and predictive analytics\n",
      "* Salesforce: Utilizing generative models for contact center automation, customer messaging, and lead generation\n",
      "\n",
      "These are just a few examples of the many business applications of Generative AI. As this technology continues to evolve, we can expect to see even more innovative uses across various industries.\n"
     ]
    }
   ],
   "source": [
    "# There's actually an alternative approach that some people might prefer\n",
    "# You can use the OpenAI client python library to call Ollama:\n",
    "\n",
    "from openai import OpenAI\n",
    "ollama_via_openai = OpenAI(base_url='http://localhost:11434/v1', api_key='ollama')\n",
    "\n",
    "response = ollama_via_openai.chat.completions.create(\n",
    "    model=MODEL,\n",
    "    messages=messages\n",
    ")\n",
    "\n",
    "print(response.choices[0].message.content)"
   ]
  },
  {
   "cell_type": "code",
   "execution_count": 30,
   "id": "9604de9f-091b-4ff4-affe-a3e7ea6a641f",
   "metadata": {},
   "outputs": [],
   "source": [
    "# !ollama pull deepseek-r1:1.5b"
   ]
  },
  {
   "cell_type": "code",
   "execution_count": 32,
   "id": "5b63f5f8-c409-4f53-97b7-70620b326222",
   "metadata": {},
   "outputs": [],
   "source": [
    "# This may take a few minutes to run! You should then see a fascinating \"thinking\" trace inside <think> tags, followed by some decent definitions\n",
    "\n",
    "response = ollama_via_openai.chat.completions.create(\n",
    "    model=\"deepseek-r1:1.5b\",\n",
    "    messages=[{\"role\": \"user\", \"content\": \"Please give definitions of some core concepts behind LLMs: a neural network, attention and the transformer\"}]\n",
    ")\n",
    "\n",
    "print(response.choices[0].message.content)"
   ]
  },
  {
   "cell_type": "markdown",
   "id": "4a4859a0-e8a2-4b06-a46b-293116e8f8df",
   "metadata": {},
   "source": [
    "# Excercise"
   ]
  },
  {
   "cell_type": "markdown",
   "id": "b4a08fb4-d108-4881-b286-bfa87f3e629d",
   "metadata": {},
   "source": [
    "## Use these opensource models for the day-1 summarizing Task"
   ]
  },
  {
   "cell_type": "code",
   "execution_count": 33,
   "id": "1cfebb71-d5a9-4951-9a14-e782bfe49b40",
   "metadata": {},
   "outputs": [],
   "source": [
    "# imports\n",
    "\n",
    "import os\n",
    "import requests\n",
    "from dotenv import load_dotenv\n",
    "from bs4 import BeautifulSoup\n",
    "from IPython.display import Markdown, display\n",
    "from openai import OpenAI\n",
    "\n",
    "# If you get an error running this cell, then please head over to the troubleshooting notebook!"
   ]
  },
  {
   "cell_type": "code",
   "execution_count": 34,
   "id": "1da8ad7a-929e-4165-9734-96c8408c78cf",
   "metadata": {},
   "outputs": [],
   "source": [
    "# A class to represent a Webpage\n",
    "# If you're not familiar with Classes, check out the \"Intermediate Python\" notebook\n",
    "\n",
    "# Some websites need you to use proper headers when fetching them:\n",
    "headers = {\n",
    " \"User-Agent\": \"Mozilla/5.0 (Windows NT 10.0; Win64; x64) AppleWebKit/537.36 (KHTML, like Gecko) Chrome/117.0.0.0 Safari/537.36\"\n",
    "}\n",
    "\n",
    "class Website:\n",
    "\n",
    "    def __init__(self, url):\n",
    "        \"\"\"\n",
    "        Create this Website object from the given url using the BeautifulSoup library\n",
    "        \"\"\"\n",
    "        self.url = url\n",
    "        response = requests.get(url, headers=headers)\n",
    "        soup = BeautifulSoup(response.content, 'html.parser')\n",
    "        self.title = soup.title.string if soup.title else \"No title found\"\n",
    "        for irrelevant in soup.body([\"script\", \"style\", \"img\", \"input\"]):\n",
    "            irrelevant.decompose()\n",
    "        self.text = soup.body.get_text(separator=\"\\n\", strip=True)"
   ]
  },
  {
   "cell_type": "code",
   "execution_count": 35,
   "id": "d086ed2d-f234-47b1-8a9a-93c77666895c",
   "metadata": {},
   "outputs": [
    {
     "name": "stdout",
     "output_type": "stream",
     "text": [
      "Home - Edward Donner\n",
      "Home\n",
      "Outsmart\n",
      "An arena that pits LLMs against each other in a battle of diplomacy and deviousness\n",
      "About\n",
      "Posts\n",
      "Well, hi there.\n",
      "I’m Ed. I like writing code and experimenting with LLMs, and hopefully you’re here because you do too. I also enjoy DJing (but I’m badly out of practice), amateur electronic music production (\n",
      "very\n",
      "amateur) and losing myself in\n",
      "Hacker News\n",
      ", nodding my head sagely to things I only half understand.\n",
      "I’m the co-founder and CTO of\n",
      "Nebula.io\n",
      ". We’re applying AI to a field where it can make a massive, positive impact: helping people discover their potential and pursue their reason for being. Recruiters use our product today to source, understand, engage and manage talent. I’m previously the founder and CEO of AI startup untapt,\n",
      "acquired in 2021\n",
      ".\n",
      "We work with groundbreaking, proprietary LLMs verticalized for talent, we’ve\n",
      "patented\n",
      "our matching model, and our award-winning platform has happy customers and tons of press coverage.\n",
      "Connect\n",
      "with me for more!\n",
      "January 23, 2025\n",
      "LLM Workshop – Hands-on with Agents – resources\n",
      "December 21, 2024\n",
      "Welcome, SuperDataScientists!\n",
      "November 13, 2024\n",
      "Mastering AI and LLM Engineering – Resources\n",
      "October 16, 2024\n",
      "From Software Engineer to AI Data Scientist – resources\n",
      "Navigation\n",
      "Home\n",
      "Outsmart\n",
      "An arena that pits LLMs against each other in a battle of diplomacy and deviousness\n",
      "About\n",
      "Posts\n",
      "Get in touch\n",
      "ed [at] edwarddonner [dot] com\n",
      "www.edwarddonner.com\n",
      "Follow me\n",
      "LinkedIn\n",
      "Twitter\n",
      "Facebook\n",
      "Subscribe to newsletter\n",
      "Type your email…\n",
      "Subscribe\n"
     ]
    }
   ],
   "source": [
    "# Let's try one out. Change the website and add print statements to follow along.\n",
    "\n",
    "ed = Website(\"https://edwarddonner.com\")\n",
    "print(ed.title)\n",
    "print(ed.text)"
   ]
  },
  {
   "cell_type": "code",
   "execution_count": 36,
   "id": "54d888ee-5492-4c18-9874-a423ead86924",
   "metadata": {},
   "outputs": [],
   "source": [
    "# Define our system prompt - you can experiment with this later, changing the last sentence to 'Respond in markdown in Spanish.\"\n",
    "\n",
    "system_prompt = \"You are an assistant that analyzes the contents of a website \\\n",
    "and provides a short summary, ignoring text that might be navigation related. \\\n",
    "Respond in markdown.\""
   ]
  },
  {
   "cell_type": "code",
   "execution_count": 37,
   "id": "4fc5000b-f574-4c0c-810a-b23823b936af",
   "metadata": {},
   "outputs": [],
   "source": [
    "# A function that writes a User Prompt that asks for summaries of websites:\n",
    "\n",
    "def user_prompt_for(website):\n",
    "    user_prompt = f\"You are looking at a website titled {website.title}\"\n",
    "    user_prompt += \"\\nThe contents of this website is as follows; \\\n",
    "please provide a short summary of this website in markdown. \\\n",
    "If it includes news or announcements, then summarize these too.\\n\\n\"\n",
    "    user_prompt += website.text\n",
    "    return user_prompt"
   ]
  },
  {
   "cell_type": "code",
   "execution_count": 38,
   "id": "e56c3145-d446-46ad-84c5-947cd37e0cdd",
   "metadata": {},
   "outputs": [
    {
     "name": "stdout",
     "output_type": "stream",
     "text": [
      "You are looking at a website titled Home - Edward Donner\n",
      "The contents of this website is as follows; please provide a short summary of this website in markdown. If it includes news or announcements, then summarize these too.\n",
      "\n",
      "Home\n",
      "Outsmart\n",
      "An arena that pits LLMs against each other in a battle of diplomacy and deviousness\n",
      "About\n",
      "Posts\n",
      "Well, hi there.\n",
      "I’m Ed. I like writing code and experimenting with LLMs, and hopefully you’re here because you do too. I also enjoy DJing (but I’m badly out of practice), amateur electronic music production (\n",
      "very\n",
      "amateur) and losing myself in\n",
      "Hacker News\n",
      ", nodding my head sagely to things I only half understand.\n",
      "I’m the co-founder and CTO of\n",
      "Nebula.io\n",
      ". We’re applying AI to a field where it can make a massive, positive impact: helping people discover their potential and pursue their reason for being. Recruiters use our product today to source, understand, engage and manage talent. I’m previously the founder and CEO of AI startup untapt,\n",
      "acquired in 2021\n",
      ".\n",
      "We work with groundbreaking, proprietary LLMs verticalized for talent, we’ve\n",
      "patented\n",
      "our matching model, and our award-winning platform has happy customers and tons of press coverage.\n",
      "Connect\n",
      "with me for more!\n",
      "January 23, 2025\n",
      "LLM Workshop – Hands-on with Agents – resources\n",
      "December 21, 2024\n",
      "Welcome, SuperDataScientists!\n",
      "November 13, 2024\n",
      "Mastering AI and LLM Engineering – Resources\n",
      "October 16, 2024\n",
      "From Software Engineer to AI Data Scientist – resources\n",
      "Navigation\n",
      "Home\n",
      "Outsmart\n",
      "An arena that pits LLMs against each other in a battle of diplomacy and deviousness\n",
      "About\n",
      "Posts\n",
      "Get in touch\n",
      "ed [at] edwarddonner [dot] com\n",
      "www.edwarddonner.com\n",
      "Follow me\n",
      "LinkedIn\n",
      "Twitter\n",
      "Facebook\n",
      "Subscribe to newsletter\n",
      "Type your email…\n",
      "Subscribe\n"
     ]
    }
   ],
   "source": [
    "print(user_prompt_for(ed))"
   ]
  },
  {
   "cell_type": "code",
   "execution_count": 39,
   "id": "92943ac4-ca09-452a-85f9-403268bfdacc",
   "metadata": {},
   "outputs": [],
   "source": [
    "# See how this function creates exactly the format above\n",
    "\n",
    "def messages_for(website):\n",
    "    return [\n",
    "        {\"role\": \"system\", \"content\": system_prompt},\n",
    "        {\"role\": \"user\", \"content\": user_prompt_for(website)}\n",
    "    ]"
   ]
  },
  {
   "cell_type": "code",
   "execution_count": 40,
   "id": "5a7b2220-1c50-4dd1-aa33-9ec6b0fd4ce3",
   "metadata": {},
   "outputs": [
    {
     "data": {
      "text/plain": [
       "[{'role': 'system',\n",
       "  'content': 'You are an assistant that analyzes the contents of a website and provides a short summary, ignoring text that might be navigation related. Respond in markdown.'},\n",
       " {'role': 'user',\n",
       "  'content': 'You are looking at a website titled Home - Edward Donner\\nThe contents of this website is as follows; please provide a short summary of this website in markdown. If it includes news or announcements, then summarize these too.\\n\\nHome\\nOutsmart\\nAn arena that pits LLMs against each other in a battle of diplomacy and deviousness\\nAbout\\nPosts\\nWell, hi there.\\nI’m Ed. I like writing code and experimenting with LLMs, and hopefully you’re here because you do too. I also enjoy DJing (but I’m badly out of practice), amateur electronic music production (\\nvery\\namateur) and losing myself in\\nHacker News\\n, nodding my head sagely to things I only half understand.\\nI’m the co-founder and CTO of\\nNebula.io\\n. We’re applying AI to a field where it can make a massive, positive impact: helping people discover their potential and pursue their reason for being. Recruiters use our product today to source, understand, engage and manage talent. I’m previously the founder and CEO of AI startup untapt,\\nacquired in 2021\\n.\\nWe work with groundbreaking, proprietary LLMs verticalized for talent, we’ve\\npatented\\nour matching model, and our award-winning platform has happy customers and tons of press coverage.\\nConnect\\nwith me for more!\\nJanuary 23, 2025\\nLLM Workshop – Hands-on with Agents – resources\\nDecember 21, 2024\\nWelcome, SuperDataScientists!\\nNovember 13, 2024\\nMastering AI and LLM Engineering – Resources\\nOctober 16, 2024\\nFrom Software Engineer to AI Data Scientist – resources\\nNavigation\\nHome\\nOutsmart\\nAn arena that pits LLMs against each other in a battle of diplomacy and deviousness\\nAbout\\nPosts\\nGet in touch\\ned [at] edwarddonner [dot] com\\nwww.edwarddonner.com\\nFollow me\\nLinkedIn\\nTwitter\\nFacebook\\nSubscribe to newsletter\\nType your email…\\nSubscribe'}]"
      ]
     },
     "execution_count": 40,
     "metadata": {},
     "output_type": "execute_result"
    }
   ],
   "source": [
    "messages_for(ed)"
   ]
  },
  {
   "cell_type": "code",
   "execution_count": null,
   "id": "ff90c873-9612-4ba1-92cb-668122493b69",
   "metadata": {},
   "outputs": [],
   "source": [
    "# And now: call the OpenAI API. You will get very familiar with this!\n",
    "website = Website(\"https://edwarddonner.com\")\n",
    "\n",
    "payload = {\n",
    "        \"model\": MODEL,\n",
    "        \"messages\": messages_for(website),\n",
    "        \"stream\": False\n",
    "    }\n",
    "\n",
    "\n",
    "\n",
    "# If this doesn't work for any reason, try the 2 versions in the following cells\n",
    "# And double check the instructions in the 'Recap on installation of Ollama' at the top of this lab\n",
    "# And if none of that works - contact me!\n",
    "\n",
    "response = requests.post(OLLAMA_API, json=payload, headers=HEADERS)\n",
    "print(response.json()['message']['content'])\n",
    "\n",
    "\n",
    "def summarize(url):\n",
    "    website = Website(url)\n",
    "    response = openai.chat.completions.create(\n",
    "        model = \"gpt-4o-mini\",\n",
    "        messages = messages_for(website)\n",
    "    )\n",
    "    return response.choices[0].message.content"
   ]
  }
 ],
 "metadata": {
  "kernelspec": {
   "display_name": "Python 3 (ipykernel)",
   "language": "python",
   "name": "python3"
  },
  "language_info": {
   "codemirror_mode": {
    "name": "ipython",
    "version": 3
   },
   "file_extension": ".py",
   "mimetype": "text/x-python",
   "name": "python",
   "nbconvert_exporter": "python",
   "pygments_lexer": "ipython3",
   "version": "3.11.11"
  }
 },
 "nbformat": 4,
 "nbformat_minor": 5
}
